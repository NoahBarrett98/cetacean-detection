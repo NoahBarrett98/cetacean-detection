{
 "cells": [
  {
   "cell_type": "code",
   "execution_count": 7,
   "metadata": {},
   "outputs": [],
   "source": [
    "import numpy as np\n",
    "import h5py\n",
    "\n",
    "# read in labels\n",
    "h5_file = r\"C:\\Users\\NoahB\\OneDrive\\Desktop\\cetacean_detection\\nefsc_sbnms_200903_nopp6_ch10\\processed\\intial_run\\hdf5\\processed_data_no_class_2.h5\"\n",
    "with h5py.File(h5_file, 'r') as infile:\n",
    "        y = infile['y'][:]"
   ]
  },
  {
   "cell_type": "code",
   "execution_count": 8,
   "metadata": {},
   "outputs": [
    {
     "name": "stdout",
     "output_type": "stream",
     "text": [
      "class counts: [188588   5905]\n",
      "class_weights: [5.30256432e-06 1.69348010e-04]\n"
     ]
    }
   ],
   "source": [
    "class_counts = np.bincount(y)\n",
    "print(\"class counts:\", class_counts)\n",
    "class_weights = 1.0 / class_counts \n",
    "print(\"class_weights:\", class_weights)"
   ]
  },
  {
   "cell_type": "code",
   "execution_count": 9,
   "metadata": {},
   "outputs": [
    {
     "name": "stdout",
     "output_type": "stream",
     "text": [
      "5.30256432e-06\n"
     ]
    }
   ],
   "source": [
    "vals = [5.30256432e-06, 1.69348010e-04]\n",
    "print(vals[0])"
   ]
  },
  {
   "cell_type": "code",
   "execution_count": 10,
   "metadata": {},
   "outputs": [
    {
     "name": "stdout",
     "output_type": "stream",
     "text": [
      "Iterations per epoch: 6077.91\n"
     ]
    }
   ],
   "source": [
    "minority_samples = 5905\n",
    "batch_size = 32\n",
    "total_samples = 188588 + 5905\n",
    "\n",
    "# Proportion calculation\n",
    "minority_proportion = 5905 / total_samples  # About 3%\n",
    "\n",
    "# Iterations per epoch\n",
    "iterations_per_epoch = minority_samples / (batch_size * minority_proportion)\n",
    "print(f\"Iterations per epoch: {iterations_per_epoch:.2f}\")"
   ]
  },
  {
   "cell_type": "code",
   "execution_count": null,
   "metadata": {},
   "outputs": [],
   "source": []
  }
 ],
 "metadata": {
  "kernelspec": {
   "display_name": "Python (c_det)",
   "language": "python",
   "name": "myenv"
  },
  "language_info": {
   "codemirror_mode": {
    "name": "ipython",
    "version": 3
   },
   "file_extension": ".py",
   "mimetype": "text/x-python",
   "name": "python",
   "nbconvert_exporter": "python",
   "pygments_lexer": "ipython3",
   "version": "3.12.9"
  }
 },
 "nbformat": 4,
 "nbformat_minor": 2
}
